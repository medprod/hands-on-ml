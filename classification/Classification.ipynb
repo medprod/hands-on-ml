{
 "cells": [
  {
   "cell_type": "markdown",
   "id": "4e028562",
   "metadata": {},
   "source": [
    "## Assignment 3 "
   ]
  },
  {
   "cell_type": "markdown",
   "id": "43e6f263",
   "metadata": {},
   "source": [
    "### PART 1"
   ]
  },
  {
   "cell_type": "code",
   "execution_count": 1,
   "id": "eac16ae1",
   "metadata": {},
   "outputs": [],
   "source": [
    "from sklearn.datasets import fetch_openml\n",
    "import numpy as np"
   ]
  },
  {
   "cell_type": "code",
   "execution_count": 2,
   "id": "1b6a2bb6",
   "metadata": {},
   "outputs": [
    {
     "data": {
      "text/plain": [
       "dict_keys(['data', 'target', 'frame', 'categories', 'feature_names', 'target_names', 'DESCR', 'details', 'url'])"
      ]
     },
     "execution_count": 2,
     "metadata": {},
     "output_type": "execute_result"
    }
   ],
   "source": [
    "mnist = fetch_openml('mnist_784', version=1)\n",
    "mnist.keys()"
   ]
  },
  {
   "cell_type": "code",
   "execution_count": 3,
   "id": "d79e6b0c",
   "metadata": {},
   "outputs": [
    {
     "data": {
      "text/plain": [
       "(70000, 784)"
      ]
     },
     "execution_count": 3,
     "metadata": {},
     "output_type": "execute_result"
    }
   ],
   "source": [
    "X, y = mnist[\"data\"], mnist[\"target\"]\n",
    "X = X.to_numpy()\n",
    "y = y.astype(np.uint8)\n",
    "X.shape"
   ]
  },
  {
   "cell_type": "markdown",
   "id": "465c6cad",
   "metadata": {},
   "source": [
    "#### Training a Binary Classifier"
   ]
  },
  {
   "cell_type": "code",
   "execution_count": 4,
   "id": "a987aed9",
   "metadata": {},
   "outputs": [],
   "source": [
    "X_train, X_test, y_train, y_test = X[:60000], X[60000:], y[:60000], y[60000:]"
   ]
  },
  {
   "cell_type": "code",
   "execution_count": 5,
   "id": "ebb2bbe6",
   "metadata": {},
   "outputs": [],
   "source": [
    "train_indices = ((y_train.astype(int) == 5) | (y_train.astype(int) == 3))\n",
    "test_indices = ((y_test.astype(int) == 5) | (y_test.astype(int) == 3))"
   ]
  },
  {
   "cell_type": "code",
   "execution_count": 6,
   "id": "faa5dcea",
   "metadata": {},
   "outputs": [],
   "source": [
    "X_train = X_train[train_indices]\n",
    "y_train = y_train[train_indices]"
   ]
  },
  {
   "cell_type": "code",
   "execution_count": 7,
   "id": "53d6d9d9",
   "metadata": {},
   "outputs": [
    {
     "data": {
      "text/plain": [
       "(11552, 784)"
      ]
     },
     "execution_count": 7,
     "metadata": {},
     "output_type": "execute_result"
    }
   ],
   "source": [
    "X_train.shape"
   ]
  },
  {
   "cell_type": "code",
   "execution_count": 8,
   "id": "b1930875",
   "metadata": {},
   "outputs": [],
   "source": [
    "X_test = X_test[test_indices]\n",
    "y_test = y_test[test_indices]"
   ]
  },
  {
   "cell_type": "code",
   "execution_count": 9,
   "id": "f19c6d4b",
   "metadata": {},
   "outputs": [
    {
     "data": {
      "text/plain": [
       "(1902, 784)"
      ]
     },
     "execution_count": 9,
     "metadata": {},
     "output_type": "execute_result"
    }
   ],
   "source": [
    "X_test.shape"
   ]
  },
  {
   "cell_type": "code",
   "execution_count": 10,
   "id": "e3f6d174",
   "metadata": {},
   "outputs": [],
   "source": [
    "y_train_35 = (y_train == 3)  \n",
    "y_test_35 = (y_test == 3)"
   ]
  },
  {
   "cell_type": "markdown",
   "id": "195206db",
   "metadata": {},
   "source": [
    "#### SGD Classifier"
   ]
  },
  {
   "cell_type": "code",
   "execution_count": 11,
   "id": "f974d28b",
   "metadata": {},
   "outputs": [
    {
     "data": {
      "text/plain": [
       "SGDClassifier(random_state=42)"
      ]
     },
     "execution_count": 11,
     "metadata": {},
     "output_type": "execute_result"
    }
   ],
   "source": [
    "from sklearn.linear_model import SGDClassifier\n",
    "sgd_clf = SGDClassifier(random_state=42)\n",
    "sgd_clf.fit(X_train, y_train_35)"
   ]
  },
  {
   "cell_type": "code",
   "execution_count": 12,
   "id": "6ed6fb85",
   "metadata": {},
   "outputs": [
    {
     "data": {
      "text/plain": [
       "array([False])"
      ]
     },
     "execution_count": 12,
     "metadata": {},
     "output_type": "execute_result"
    }
   ],
   "source": [
    "some_digit = X[0]\n",
    "sgd_clf.predict([some_digit])"
   ]
  },
  {
   "cell_type": "markdown",
   "id": "27a021e6",
   "metadata": {},
   "source": [
    "#### Cross Validation"
   ]
  },
  {
   "cell_type": "code",
   "execution_count": 13,
   "id": "b2026459",
   "metadata": {},
   "outputs": [
    {
     "data": {
      "text/plain": [
       "array([0.92962867, 0.95299922, 0.94701299])"
      ]
     },
     "execution_count": 13,
     "metadata": {},
     "output_type": "execute_result"
    }
   ],
   "source": [
    "from sklearn.model_selection import cross_val_score\n",
    "cross_val_score(sgd_clf, X_train, y_train_35, cv=3, scoring=\"accuracy\")"
   ]
  },
  {
   "cell_type": "markdown",
   "id": "7a990ee5",
   "metadata": {},
   "source": [
    "#### Confusion Matrix"
   ]
  },
  {
   "cell_type": "code",
   "execution_count": 14,
   "id": "a6a86534",
   "metadata": {},
   "outputs": [],
   "source": [
    "from sklearn.model_selection import cross_val_predict\n",
    "y_train_pred = cross_val_predict(sgd_clf, X_train, y_train_35, cv=3)"
   ]
  },
  {
   "cell_type": "code",
   "execution_count": 15,
   "id": "2115cccf",
   "metadata": {},
   "outputs": [
    {
     "data": {
      "text/plain": [
       "array([[4994,  427],\n",
       "       [ 229, 5902]])"
      ]
     },
     "execution_count": 15,
     "metadata": {},
     "output_type": "execute_result"
    }
   ],
   "source": [
    "from sklearn.metrics import confusion_matrix\n",
    "cm = confusion_matrix(y_train_35, y_train_pred)\n",
    "cm"
   ]
  },
  {
   "cell_type": "markdown",
   "id": "dcbeb2bd",
   "metadata": {},
   "source": [
    "#### Precision "
   ]
  },
  {
   "cell_type": "code",
   "execution_count": 16,
   "id": "534a5839",
   "metadata": {},
   "outputs": [
    {
     "data": {
      "text/plain": [
       "0.9325327855901406"
      ]
     },
     "execution_count": 16,
     "metadata": {},
     "output_type": "execute_result"
    }
   ],
   "source": [
    "from sklearn.metrics import precision_score, recall_score\n",
    "precision_score(y_train_35, y_train_pred) #5902/(5902+427)"
   ]
  },
  {
   "cell_type": "markdown",
   "id": "b866b75f",
   "metadata": {},
   "source": [
    "#### Recall "
   ]
  },
  {
   "cell_type": "code",
   "execution_count": 17,
   "id": "e77f63a4",
   "metadata": {},
   "outputs": [
    {
     "data": {
      "text/plain": [
       "0.9626488337954656"
      ]
     },
     "execution_count": 17,
     "metadata": {},
     "output_type": "execute_result"
    }
   ],
   "source": [
    "recall_score(y_train_35, y_train_pred)"
   ]
  },
  {
   "cell_type": "markdown",
   "id": "1bbfaa32",
   "metadata": {},
   "source": [
    "#### F1 "
   ]
  },
  {
   "cell_type": "code",
   "execution_count": 18,
   "id": "02e6b4bd",
   "metadata": {},
   "outputs": [
    {
     "data": {
      "text/plain": [
       "0.9473515248796147"
      ]
     },
     "execution_count": 18,
     "metadata": {},
     "output_type": "execute_result"
    }
   ],
   "source": [
    "from sklearn.metrics import f1_score\n",
    "f1_score(y_train_35, y_train_pred)"
   ]
  },
  {
   "cell_type": "markdown",
   "id": "94d1eec5",
   "metadata": {},
   "source": [
    "#### Precision & Recall curves "
   ]
  },
  {
   "cell_type": "code",
   "execution_count": 19,
   "id": "6a5f278a",
   "metadata": {},
   "outputs": [],
   "source": [
    "y_scores = cross_val_predict(sgd_clf, X_train, y_train_35, cv=3,\n",
    "                             method=\"decision_function\")"
   ]
  },
  {
   "cell_type": "code",
   "execution_count": 20,
   "id": "47800c73",
   "metadata": {},
   "outputs": [
    {
     "data": {
      "image/png": "[encoded data removed]",
      "text/plain": [
       "<Figure size 432x288 with 1 Axes>"
      ]
     },
     "metadata": {
      "needs_background": "light"
     },
     "output_type": "display_data"
    }
   ],
   "source": [
    "import matplotlib.pyplot as plt\n",
    "from sklearn.metrics import precision_recall_curve\n",
    "\n",
    "precisions, recalls, thresholds = precision_recall_curve(y_train_35, y_scores)\n",
    "def plot_precision_recall_vs_threshold(precisions, recalls, thresholds):\n",
    "    plt.plot(thresholds, precisions[:-1], \"b--\", label=\"Precision\")\n",
    "    plt.plot(thresholds, recalls[:-1], \"g-\", label=\"Recalll\")\n",
    "    plt.legend(loc=\"best\")\n",
    "    plt.grid()\n",
    "    plt.xlabel('Threshold')\n",
    "    \n",
    "plot_precision_recall_vs_threshold(precisions, recalls, thresholds)\n",
    "plt.show()"
   ]
  },
  {
   "cell_type": "code",
   "execution_count": 21,
   "id": "3e181505",
   "metadata": {},
   "outputs": [],
   "source": [
    "# plt.plot(recalls, precisions, linewidth=2, label=\"Precision/Recall curve\")\n",
    "# plt.plot([recalls[idx]], [precisions[idx]], \"ko\",\n",
    "#          label=\"Point at threshold 3,000\")\n",
    "\n",
    "# plt.xlabel(\"Recall\")\n",
    "# plt.ylabel(\"Precision\")\n",
    "# plt.axis([0, 1, 0, 1])\n",
    "# plt.grid()\n",
    "# plt.legend(loc=\"lower right\")\n",
    "\n",
    "# plt.show()"
   ]
  },
  {
   "cell_type": "markdown",
   "id": "f3f3f35b",
   "metadata": {},
   "source": [
    "#### ROC Curve"
   ]
  },
  {
   "cell_type": "code",
   "execution_count": 22,
   "id": "ba97e48e",
   "metadata": {},
   "outputs": [],
   "source": [
    "from sklearn.metrics import roc_curve"
   ]
  },
  {
   "cell_type": "code",
   "execution_count": 23,
   "id": "94a2f1ee",
   "metadata": {},
   "outputs": [],
   "source": [
    "fpr, tpr, thresholds = roc_curve(y_train_35, y_scores)"
   ]
  },
  {
   "cell_type": "code",
   "execution_count": 24,
   "id": "0e519128",
   "metadata": {},
   "outputs": [
    {
     "data": {
      "image/png": "[encoded data removed]",
      "text/plain": [
       "<Figure size 432x288 with 1 Axes>"
      ]
     },
     "metadata": {
      "needs_background": "light"
     },
     "output_type": "display_data"
    }
   ],
   "source": [
    "def plot_roc_curve(fpr, tpr, label=None):\n",
    "    plt.plot(fpr, tpr, linewidth=2, label=label)\n",
    "    plt.plot([0,1], [0,1], 'k--')\n",
    "    plt.grid()\n",
    "    plt.xlabel('False Positive Rate')\n",
    "    plt.ylabel('True Positive Rate')\n",
    "    plt.plot(0, 1, marker=\"o\", markersize=10, markeredgecolor=\"black\", markerfacecolor=\"black\")\n",
    "    plt.plot(0.5, 0.5, marker=\"s\", markersize=10, markeredgecolor=\"green\", markerfacecolor=\"green\")\n",
    "    \n",
    "plot_roc_curve(fpr, tpr)\n",
    "plt.show()"
   ]
  },
  {
   "cell_type": "markdown",
   "id": "56068a0e",
   "metadata": {},
   "source": [
    "#### ROC AUC Curve"
   ]
  },
  {
   "cell_type": "code",
   "execution_count": 25,
   "id": "16572c97",
   "metadata": {},
   "outputs": [
    {
     "data": {
      "text/plain": [
       "0.9851212013087797"
      ]
     },
     "execution_count": 25,
     "metadata": {},
     "output_type": "execute_result"
    }
   ],
   "source": [
    "from sklearn.metrics import roc_auc_score\n",
    "roc_auc_score(y_train_35, y_scores)"
   ]
  },
  {
   "cell_type": "code",
   "execution_count": 26,
   "id": "1a94a6e0",
   "metadata": {},
   "outputs": [],
   "source": [
    "from sklearn.ensemble import RandomForestClassifier\n",
    "forest_clf = RandomForestClassifier(random_state=42)"
   ]
  },
  {
   "cell_type": "code",
   "execution_count": 27,
   "id": "9bff8b31",
   "metadata": {},
   "outputs": [],
   "source": [
    "y_probas_forest = cross_val_predict(forest_clf, X_train, y_train_35, cv=3,method=\"predict_proba\")"
   ]
  },
  {
   "cell_type": "code",
   "execution_count": 28,
   "id": "758459f5",
   "metadata": {},
   "outputs": [
    {
     "data": {
      "text/plain": [
       "array([[0.66, 0.34],\n",
       "       [0.  , 1.  ]])"
      ]
     },
     "execution_count": 28,
     "metadata": {},
     "output_type": "execute_result"
    }
   ],
   "source": [
    "y_probas_forest[:2]"
   ]
  },
  {
   "cell_type": "code",
   "execution_count": 29,
   "id": "24b4c54a",
   "metadata": {},
   "outputs": [
    {
     "data": {
      "image/png": "[encoded data removed]",
      "text/plain": [
       "<Figure size 432x288 with 1 Axes>"
      ]
     },
     "metadata": {
      "needs_background": "light"
     },
     "output_type": "display_data"
    }
   ],
   "source": [
    "y_scores_forest = y_probas_forest[:,1]\n",
    "fpr_forest, tpr_forest, thresholds_forest = roc_curve(y_train_35, y_scores_forest)\n",
    "\n",
    "plt.plot(fpr, tpr, \"b:\", label=\"SGD\")\n",
    "plot_roc_curve(fpr_forest, tpr_forest, \"Random Forest\")\n",
    "plt.legend(loc=\"lower left\")\n",
    "plt.show()"
   ]
  },
  {
   "cell_type": "code",
   "execution_count": 30,
   "id": "8f3521af",
   "metadata": {},
   "outputs": [
    {
     "data": {
      "text/plain": [
       "0.9992079106873717"
      ]
     },
     "execution_count": 30,
     "metadata": {},
     "output_type": "execute_result"
    }
   ],
   "source": [
    "roc_auc_score(y_train_35, y_scores_forest)"
   ]
  },
  {
   "cell_type": "code",
   "execution_count": 31,
   "id": "45eae019",
   "metadata": {},
   "outputs": [],
   "source": [
    "from sklearn.preprocessing import StandardScaler\n",
    "scaler = StandardScaler()"
   ]
  },
  {
   "cell_type": "code",
   "execution_count": 32,
   "id": "58d7e962",
   "metadata": {},
   "outputs": [
    {
     "data": {
      "text/plain": [
       "array([0.94884446, 0.94962347, 0.94649351])"
      ]
     },
     "execution_count": 32,
     "metadata": {},
     "output_type": "execute_result"
    }
   ],
   "source": [
    "X_train_scaled = scaler.fit_transform(X_train.astype(np.float64))\n",
    "cross_val_score(sgd_clf, X_train_scaled, y_train, cv=3, scoring=\"accuracy\")"
   ]
  },
  {
   "cell_type": "code",
   "execution_count": 35,
   "id": "b58c2b27",
   "metadata": {},
   "outputs": [],
   "source": [
    "y_probas_forest = cross_val_predict(forest_clf, X_train_scaled, y_train_35, cv=3, method=\"predict_proba\")"
   ]
  },
  {
   "cell_type": "code",
   "execution_count": 36,
   "id": "9bbf7c92",
   "metadata": {},
   "outputs": [
    {
     "data": {
      "image/png": "[encoded data removed]",
      "text/plain": [
       "<Figure size 432x288 with 1 Axes>"
      ]
     },
     "metadata": {
      "needs_background": "light"
     },
     "output_type": "display_data"
    }
   ],
   "source": [
    "y_scores_forest = y_probas_forest[:, 1]\n",
    "fpr_forest, tpr_forest, thresholds_forest = roc_curve(y_train_35, y_scores_forest)\n",
    "\n",
    "plt.plot(fpr, tpr, \"b:\", label=\"SGD Classifier\")\n",
    "plot_roc_curve(fpr_forest, tpr_forest, \"Random Forest\")\n",
    "plt.legend(loc=\"lower left\")\n",
    "plt.show()"
   ]
  },
  {
   "cell_type": "markdown",
   "id": "2755a567",
   "metadata": {},
   "source": [
    "### PART 2"
   ]
  },
  {
   "cell_type": "markdown",
   "id": "106b5320",
   "metadata": {},
   "source": [
    "#### 3 vs 5 Binary Classifier"
   ]
  },
  {
   "cell_type": "code",
   "execution_count": 57,
   "id": "2dd9ccf2",
   "metadata": {},
   "outputs": [],
   "source": [
    "X_train, X_test, y_train, y_test = X[:60000], X[60000:], y[:60000], y[60000:]\n",
    "\n",
    "train_indices = (y_train.astype(int) == 5) | (y_train.astype(int) == 3)\n",
    "X_train = X_train[train_indices]\n",
    "y_train = y_train[train_indices]\n",
    "\n",
    "test_indices = (y_test.astype(int) == 5) | (y_test.astype(int) == 3)\n",
    "X_test = X_test[test_indices]\n",
    "y_test = y_test[test_indices]"
   ]
  },
  {
   "cell_type": "code",
   "execution_count": 58,
   "id": "90ead36b",
   "metadata": {},
   "outputs": [],
   "source": [
    "y_train_5 = (y_train == 5)  \n",
    "y_test_5 = (y_test == 5)"
   ]
  },
  {
   "cell_type": "code",
   "execution_count": 59,
   "id": "2312bf35",
   "metadata": {},
   "outputs": [
    {
     "data": {
      "text/plain": [
       "SGDClassifier(random_state=42)"
      ]
     },
     "execution_count": 59,
     "metadata": {},
     "output_type": "execute_result"
    }
   ],
   "source": [
    "sgd_clf_35 = SGDClassifier(random_state=42)\n",
    "sgd_clf_35.fit(X_train, y_train_5)"
   ]
  },
  {
   "cell_type": "markdown",
   "id": "42f069ff",
   "metadata": {},
   "source": [
    "#### 3 vs others Binary Classifier"
   ]
  },
  {
   "cell_type": "code",
   "execution_count": 60,
   "id": "05ac44c5",
   "metadata": {},
   "outputs": [],
   "source": [
    "X_train, X_test, y_train, y_test = X[:60000], X[60000:], y[:60000], y[60000:]"
   ]
  },
  {
   "cell_type": "code",
   "execution_count": 61,
   "id": "9ecb32d4",
   "metadata": {},
   "outputs": [],
   "source": [
    "y_train_3 = (y_train == 3)\n",
    "y_test_3 = (y_test == 3)"
   ]
  },
  {
   "cell_type": "code",
   "execution_count": 62,
   "id": "b7f3c364",
   "metadata": {},
   "outputs": [
    {
     "data": {
      "text/plain": [
       "array([False])"
      ]
     },
     "execution_count": 62,
     "metadata": {},
     "output_type": "execute_result"
    }
   ],
   "source": [
    "some_digit = X[0]\n",
    "sgd_clf_3 = SGDClassifier(random_state=42)\n",
    "sgd_clf_3.fit(X_train, y_train_3)\n",
    "sgd_clf_3.predict([some_digit])"
   ]
  },
  {
   "cell_type": "markdown",
   "id": "c45fe4bc",
   "metadata": {},
   "source": [
    "#### 5 vs others Binary Classifier"
   ]
  },
  {
   "cell_type": "code",
   "execution_count": 63,
   "id": "727ba290",
   "metadata": {},
   "outputs": [],
   "source": [
    "y_train_5 = (y_train == 5)\n",
    "y_test_5 = (y_test == 5)"
   ]
  },
  {
   "cell_type": "code",
   "execution_count": 64,
   "id": "84871048",
   "metadata": {},
   "outputs": [
    {
     "data": {
      "text/plain": [
       "array([ True])"
      ]
     },
     "execution_count": 64,
     "metadata": {},
     "output_type": "execute_result"
    }
   ],
   "source": [
    "sgd_clf_5 = SGDClassifier(random_state=42)\n",
    "sgd_clf_5.fit(X_train, y_train_5)\n",
    "sgd_clf_5.predict([some_digit])"
   ]
  },
  {
   "cell_type": "markdown",
   "id": "c8e3b08a",
   "metadata": {},
   "source": [
    "#### Multiclass Classifier"
   ]
  },
  {
   "cell_type": "code",
   "execution_count": 67,
   "id": "21a01c4c",
   "metadata": {},
   "outputs": [],
   "source": [
    "import random\n",
    "def multiclass(img):\n",
    "    wins = {\"3\":0, \"5\":0, \"others\":0}\n",
    "    assume_3, assume_5, assume_others = 0, 0, 0;\n",
    "    \n",
    "    if not sgd_clf_35.predict([img])[0]: \n",
    "        wins[\"3\"] += 1\n",
    "    if sgd_clf_3.predict([img])[0]:\n",
    "        wins[\"3\"] += 1\n",
    "    \n",
    "    if sgd_clf_35.predict([img])[0]:  \n",
    "        wins[\"5\"] += 1\n",
    "    if sgd_clf_5.predict([img])[0]:\n",
    "        wins[\"5\"] += 1\n",
    "        \n",
    "    if not sgd_clf_3.predict([img])[0]:\n",
    "        wins[\"others\"] += 1\n",
    "    if not sgd_clf_5.predict([img])[0]:\n",
    "        wins[\"others\"] += 1\n",
    "        \n",
    "    number_wins = max(wins.values())\n",
    "    number_classes = [cls for cls, win in wins.items() if win == number_wins]\n",
    "    if len(number_classes) == 1:\n",
    "        return number_classes[0]\n",
    "    else:\n",
    "        random.seed() \n",
    "        return random.choice(number_classes)\n"
   ]
  },
  {
   "cell_type": "code",
   "execution_count": 68,
   "id": "99bdc590",
   "metadata": {},
   "outputs": [
    {
     "data": {
      "text/plain": [
       "'5'"
      ]
     },
     "execution_count": 68,
     "metadata": {},
     "output_type": "execute_result"
    }
   ],
   "source": [
    "multiclass(X[0])"
   ]
  },
  {
   "cell_type": "markdown",
   "id": "3583a8c3",
   "metadata": {},
   "source": [
    "### PART 3"
   ]
  },
  {
   "cell_type": "code",
   "execution_count": 69,
   "id": "01325d43",
   "metadata": {},
   "outputs": [
    {
     "name": "stdout",
     "output_type": "stream",
     "text": [
      "Fitting 5 folds for each of 6 candidates, totalling 30 fits\n"
     ]
    },
    {
     "name": "stderr",
     "output_type": "stream",
     "text": [
      "/opt/anaconda3/lib/python3.8/site-packages/sklearn/neighbors/_classification.py:211: FutureWarning: Unlike other reduction functions (e.g. `skew`, `kurtosis`), the default behavior of `mode` typically preserves the axis it acts along. In SciPy 1.11.0, this behavior will change: the default value of `keepdims` will become False, the `axis` over which the statistic is taken will be eliminated, and the value None will no longer be accepted. Set `keepdims` to True or False to avoid this warning.\n",
      "  mode, _ = stats.mode(_y[neigh_ind, k], axis=1)\n"
     ]
    },
    {
     "name": "stdout",
     "output_type": "stream",
     "text": [
      "[CV 1/5] END .................n_neighbors=3, weights=uniform; total time=  17.2s\n"
     ]
    },
    {
     "name": "stderr",
     "output_type": "stream",
     "text": [
      "/opt/anaconda3/lib/python3.8/site-packages/sklearn/neighbors/_classification.py:211: FutureWarning: Unlike other reduction functions (e.g. `skew`, `kurtosis`), the default behavior of `mode` typically preserves the axis it acts along. In SciPy 1.11.0, this behavior will change: the default value of `keepdims` will become False, the `axis` over which the statistic is taken will be eliminated, and the value None will no longer be accepted. Set `keepdims` to True or False to avoid this warning.\n",
      "  mode, _ = stats.mode(_y[neigh_ind, k], axis=1)\n"
     ]
    },
    {
     "name": "stdout",
     "output_type": "stream",
     "text": [
      "[CV 2/5] END .................n_neighbors=3, weights=uniform; total time=  17.1s\n"
     ]
    },
    {
     "name": "stderr",
     "output_type": "stream",
     "text": [
      "/opt/anaconda3/lib/python3.8/site-packages/sklearn/neighbors/_classification.py:211: FutureWarning: Unlike other reduction functions (e.g. `skew`, `kurtosis`), the default behavior of `mode` typically preserves the axis it acts along. In SciPy 1.11.0, this behavior will change: the default value of `keepdims` will become False, the `axis` over which the statistic is taken will be eliminated, and the value None will no longer be accepted. Set `keepdims` to True or False to avoid this warning.\n",
      "  mode, _ = stats.mode(_y[neigh_ind, k], axis=1)\n"
     ]
    },
    {
     "name": "stdout",
     "output_type": "stream",
     "text": [
      "[CV 3/5] END .................n_neighbors=3, weights=uniform; total time=  16.3s\n"
     ]
    },
    {
     "name": "stderr",
     "output_type": "stream",
     "text": [
      "/opt/anaconda3/lib/python3.8/site-packages/sklearn/neighbors/_classification.py:211: FutureWarning: Unlike other reduction functions (e.g. `skew`, `kurtosis`), the default behavior of `mode` typically preserves the axis it acts along. In SciPy 1.11.0, this behavior will change: the default value of `keepdims` will become False, the `axis` over which the statistic is taken will be eliminated, and the value None will no longer be accepted. Set `keepdims` to True or False to avoid this warning.\n",
      "  mode, _ = stats.mode(_y[neigh_ind, k], axis=1)\n"
     ]
    },
    {
     "name": "stdout",
     "output_type": "stream",
     "text": [
      "[CV 4/5] END .................n_neighbors=3, weights=uniform; total time=  17.4s\n"
     ]
    },
    {
     "name": "stderr",
     "output_type": "stream",
     "text": [
      "/opt/anaconda3/lib/python3.8/site-packages/sklearn/neighbors/_classification.py:211: FutureWarning: Unlike other reduction functions (e.g. `skew`, `kurtosis`), the default behavior of `mode` typically preserves the axis it acts along. In SciPy 1.11.0, this behavior will change: the default value of `keepdims` will become False, the `axis` over which the statistic is taken will be eliminated, and the value None will no longer be accepted. Set `keepdims` to True or False to avoid this warning.\n",
      "  mode, _ = stats.mode(_y[neigh_ind, k], axis=1)\n"
     ]
    },
    {
     "name": "stdout",
     "output_type": "stream",
     "text": [
      "[CV 5/5] END .................n_neighbors=3, weights=uniform; total time=  16.6s\n",
      "[CV 1/5] END ................n_neighbors=3, weights=distance; total time=  19.9s\n",
      "[CV 2/5] END ................n_neighbors=3, weights=distance; total time=  23.2s\n",
      "[CV 3/5] END ................n_neighbors=3, weights=distance; total time=  21.2s\n",
      "[CV 4/5] END ................n_neighbors=3, weights=distance; total time=  23.6s\n",
      "[CV 5/5] END ................n_neighbors=3, weights=distance; total time=  21.8s\n"
     ]
    },
    {
     "name": "stderr",
     "output_type": "stream",
     "text": [
      "/opt/anaconda3/lib/python3.8/site-packages/sklearn/neighbors/_classification.py:211: FutureWarning: Unlike other reduction functions (e.g. `skew`, `kurtosis`), the default behavior of `mode` typically preserves the axis it acts along. In SciPy 1.11.0, this behavior will change: the default value of `keepdims` will become False, the `axis` over which the statistic is taken will be eliminated, and the value None will no longer be accepted. Set `keepdims` to True or False to avoid this warning.\n",
      "  mode, _ = stats.mode(_y[neigh_ind, k], axis=1)\n"
     ]
    },
    {
     "name": "stdout",
     "output_type": "stream",
     "text": [
      "[CV 1/5] END .................n_neighbors=4, weights=uniform; total time=  25.4s\n"
     ]
    },
    {
     "name": "stderr",
     "output_type": "stream",
     "text": [
      "/opt/anaconda3/lib/python3.8/site-packages/sklearn/neighbors/_classification.py:211: FutureWarning: Unlike other reduction functions (e.g. `skew`, `kurtosis`), the default behavior of `mode` typically preserves the axis it acts along. In SciPy 1.11.0, this behavior will change: the default value of `keepdims` will become False, the `axis` over which the statistic is taken will be eliminated, and the value None will no longer be accepted. Set `keepdims` to True or False to avoid this warning.\n",
      "  mode, _ = stats.mode(_y[neigh_ind, k], axis=1)\n"
     ]
    },
    {
     "name": "stdout",
     "output_type": "stream",
     "text": [
      "[CV 2/5] END .................n_neighbors=4, weights=uniform; total time=  25.4s\n"
     ]
    },
    {
     "name": "stderr",
     "output_type": "stream",
     "text": [
      "/opt/anaconda3/lib/python3.8/site-packages/sklearn/neighbors/_classification.py:211: FutureWarning: Unlike other reduction functions (e.g. `skew`, `kurtosis`), the default behavior of `mode` typically preserves the axis it acts along. In SciPy 1.11.0, this behavior will change: the default value of `keepdims` will become False, the `axis` over which the statistic is taken will be eliminated, and the value None will no longer be accepted. Set `keepdims` to True or False to avoid this warning.\n",
      "  mode, _ = stats.mode(_y[neigh_ind, k], axis=1)\n"
     ]
    },
    {
     "name": "stdout",
     "output_type": "stream",
     "text": [
      "[CV 3/5] END .................n_neighbors=4, weights=uniform; total time=  23.3s\n"
     ]
    },
    {
     "name": "stderr",
     "output_type": "stream",
     "text": [
      "/opt/anaconda3/lib/python3.8/site-packages/sklearn/neighbors/_classification.py:211: FutureWarning: Unlike other reduction functions (e.g. `skew`, `kurtosis`), the default behavior of `mode` typically preserves the axis it acts along. In SciPy 1.11.0, this behavior will change: the default value of `keepdims` will become False, the `axis` over which the statistic is taken will be eliminated, and the value None will no longer be accepted. Set `keepdims` to True or False to avoid this warning.\n",
      "  mode, _ = stats.mode(_y[neigh_ind, k], axis=1)\n"
     ]
    },
    {
     "name": "stdout",
     "output_type": "stream",
     "text": [
      "[CV 4/5] END .................n_neighbors=4, weights=uniform; total time=  22.4s\n"
     ]
    },
    {
     "name": "stderr",
     "output_type": "stream",
     "text": [
      "/opt/anaconda3/lib/python3.8/site-packages/sklearn/neighbors/_classification.py:211: FutureWarning: Unlike other reduction functions (e.g. `skew`, `kurtosis`), the default behavior of `mode` typically preserves the axis it acts along. In SciPy 1.11.0, this behavior will change: the default value of `keepdims` will become False, the `axis` over which the statistic is taken will be eliminated, and the value None will no longer be accepted. Set `keepdims` to True or False to avoid this warning.\n",
      "  mode, _ = stats.mode(_y[neigh_ind, k], axis=1)\n"
     ]
    },
    {
     "name": "stdout",
     "output_type": "stream",
     "text": [
      "[CV 5/5] END .................n_neighbors=4, weights=uniform; total time=  21.4s\n",
      "[CV 1/5] END ................n_neighbors=4, weights=distance; total time=  18.8s\n",
      "[CV 2/5] END ................n_neighbors=4, weights=distance; total time=  21.5s\n",
      "[CV 3/5] END ................n_neighbors=4, weights=distance; total time=  20.9s\n",
      "[CV 4/5] END ................n_neighbors=4, weights=distance; total time=  22.2s\n",
      "[CV 5/5] END ................n_neighbors=4, weights=distance; total time=  23.3s\n"
     ]
    },
    {
     "name": "stderr",
     "output_type": "stream",
     "text": [
      "/opt/anaconda3/lib/python3.8/site-packages/sklearn/neighbors/_classification.py:211: FutureWarning: Unlike other reduction functions (e.g. `skew`, `kurtosis`), the default behavior of `mode` typically preserves the axis it acts along. In SciPy 1.11.0, this behavior will change: the default value of `keepdims` will become False, the `axis` over which the statistic is taken will be eliminated, and the value None will no longer be accepted. Set `keepdims` to True or False to avoid this warning.\n",
      "  mode, _ = stats.mode(_y[neigh_ind, k], axis=1)\n"
     ]
    },
    {
     "name": "stdout",
     "output_type": "stream",
     "text": [
      "[CV 1/5] END .................n_neighbors=5, weights=uniform; total time=  22.4s\n"
     ]
    },
    {
     "name": "stderr",
     "output_type": "stream",
     "text": [
      "/opt/anaconda3/lib/python3.8/site-packages/sklearn/neighbors/_classification.py:211: FutureWarning: Unlike other reduction functions (e.g. `skew`, `kurtosis`), the default behavior of `mode` typically preserves the axis it acts along. In SciPy 1.11.0, this behavior will change: the default value of `keepdims` will become False, the `axis` over which the statistic is taken will be eliminated, and the value None will no longer be accepted. Set `keepdims` to True or False to avoid this warning.\n",
      "  mode, _ = stats.mode(_y[neigh_ind, k], axis=1)\n"
     ]
    },
    {
     "name": "stdout",
     "output_type": "stream",
     "text": [
      "[CV 2/5] END .................n_neighbors=5, weights=uniform; total time=  21.3s\n"
     ]
    },
    {
     "name": "stderr",
     "output_type": "stream",
     "text": [
      "/opt/anaconda3/lib/python3.8/site-packages/sklearn/neighbors/_classification.py:211: FutureWarning: Unlike other reduction functions (e.g. `skew`, `kurtosis`), the default behavior of `mode` typically preserves the axis it acts along. In SciPy 1.11.0, this behavior will change: the default value of `keepdims` will become False, the `axis` over which the statistic is taken will be eliminated, and the value None will no longer be accepted. Set `keepdims` to True or False to avoid this warning.\n",
      "  mode, _ = stats.mode(_y[neigh_ind, k], axis=1)\n"
     ]
    },
    {
     "name": "stdout",
     "output_type": "stream",
     "text": [
      "[CV 3/5] END .................n_neighbors=5, weights=uniform; total time=  21.2s\n"
     ]
    },
    {
     "name": "stderr",
     "output_type": "stream",
     "text": [
      "/opt/anaconda3/lib/python3.8/site-packages/sklearn/neighbors/_classification.py:211: FutureWarning: Unlike other reduction functions (e.g. `skew`, `kurtosis`), the default behavior of `mode` typically preserves the axis it acts along. In SciPy 1.11.0, this behavior will change: the default value of `keepdims` will become False, the `axis` over which the statistic is taken will be eliminated, and the value None will no longer be accepted. Set `keepdims` to True or False to avoid this warning.\n",
      "  mode, _ = stats.mode(_y[neigh_ind, k], axis=1)\n"
     ]
    },
    {
     "name": "stdout",
     "output_type": "stream",
     "text": [
      "[CV 4/5] END .................n_neighbors=5, weights=uniform; total time=  22.5s\n"
     ]
    },
    {
     "name": "stderr",
     "output_type": "stream",
     "text": [
      "/opt/anaconda3/lib/python3.8/site-packages/sklearn/neighbors/_classification.py:211: FutureWarning: Unlike other reduction functions (e.g. `skew`, `kurtosis`), the default behavior of `mode` typically preserves the axis it acts along. In SciPy 1.11.0, this behavior will change: the default value of `keepdims` will become False, the `axis` over which the statistic is taken will be eliminated, and the value None will no longer be accepted. Set `keepdims` to True or False to avoid this warning.\n",
      "  mode, _ = stats.mode(_y[neigh_ind, k], axis=1)\n"
     ]
    },
    {
     "name": "stdout",
     "output_type": "stream",
     "text": [
      "[CV 5/5] END .................n_neighbors=5, weights=uniform; total time=  21.6s\n",
      "[CV 1/5] END ................n_neighbors=5, weights=distance; total time=  20.9s\n",
      "[CV 2/5] END ................n_neighbors=5, weights=distance; total time=  22.6s\n",
      "[CV 3/5] END ................n_neighbors=5, weights=distance; total time=  21.6s\n",
      "[CV 4/5] END ................n_neighbors=5, weights=distance; total time=  25.5s\n",
      "[CV 5/5] END ................n_neighbors=5, weights=distance; total time=  25.2s\n"
     ]
    },
    {
     "data": {
      "text/plain": [
       "GridSearchCV(cv=5, estimator=KNeighborsClassifier(),\n",
       "             param_grid=[{'n_neighbors': [3, 4, 5],\n",
       "                          'weights': ['uniform', 'distance']}],\n",
       "             verbose=3)"
      ]
     },
     "execution_count": 69,
     "metadata": {},
     "output_type": "execute_result"
    }
   ],
   "source": [
    "from sklearn.model_selection import GridSearchCV\n",
    "from sklearn.neighbors import KNeighborsClassifier\n",
    "\n",
    "param_grid = [{'weights': [\"uniform\", \"distance\"], 'n_neighbors': [3, 4, 5]}]\n",
    "\n",
    "knn_clf = KNeighborsClassifier()\n",
    "grid_search = GridSearchCV(knn_clf, param_grid, cv=5, verbose=3)\n",
    "grid_search.fit(X[:60000], y[:60000])"
   ]
  },
  {
   "cell_type": "code",
   "execution_count": 70,
   "id": "bfb3cd59",
   "metadata": {},
   "outputs": [
    {
     "data": {
      "text/plain": [
       "{'n_neighbors': 4, 'weights': 'distance'}"
      ]
     },
     "execution_count": 70,
     "metadata": {},
     "output_type": "execute_result"
    }
   ],
   "source": [
    "grid_search.best_params_"
   ]
  },
  {
   "cell_type": "code",
   "execution_count": 71,
   "id": "498150c1",
   "metadata": {},
   "outputs": [
    {
     "data": {
      "text/plain": [
       "0.9716166666666666"
      ]
     },
     "execution_count": 71,
     "metadata": {},
     "output_type": "execute_result"
    }
   ],
   "source": [
    "grid_search.best_score_"
   ]
  },
  {
   "cell_type": "code",
   "execution_count": 73,
   "id": "782db7fe",
   "metadata": {},
   "outputs": [
    {
     "data": {
      "text/plain": [
       "0.9714"
      ]
     },
     "execution_count": 73,
     "metadata": {},
     "output_type": "execute_result"
    }
   ],
   "source": [
    "import warnings\n",
    "warnings.filterwarnings(\"ignore\")\n",
    "\n",
    "from sklearn.metrics import accuracy_score\n",
    "\n",
    "y_pred = grid_search.predict(X_test)\n",
    "accuracy_score(y_test, y_pred)"
   ]
  },
  {
   "cell_type": "code",
   "execution_count": 74,
   "id": "eedb7260",
   "metadata": {},
   "outputs": [
    {
     "data": {
      "text/plain": [
       "array([[5882,    4,    5,    0,    1,    5,   19,    1,    2,    4],\n",
       "       [   2, 6705,   10,    2,    1,    1,    3,   11,    2,    5],\n",
       "       [  51,   60, 5695,   15,   11,    4,    9,   87,   17,    9],\n",
       "       [   8,   16,   39, 5903,    1,   63,    4,   40,   33,   24],\n",
       "       [   3,   53,    1,    1, 5628,    0,   13,   11,    2,  130],\n",
       "       [  14,   18,    4,   67,    6, 5211,   58,    7,   11,   25],\n",
       "       [  24,   13,    1,    0,    5,   27, 5846,    0,    2,    0],\n",
       "       [   4,   68,   14,    3,   20,    1,    0, 6083,    3,   69],\n",
       "       [  25,   85,   15,   87,   35,  111,   26,   19, 5382,   66],\n",
       "       [  19,   13,    5,   45,   46,   12,    5,   79,   15, 5710]])"
      ]
     },
     "execution_count": 74,
     "metadata": {},
     "output_type": "execute_result"
    }
   ],
   "source": [
    "y_knn_pred = cross_val_predict(knn_clf, X[:60000], y[:60000], cv=3)\n",
    "cm2 = confusion_matrix(y[:60000], y_knn_pred)\n",
    "cm2"
   ]
  },
  {
   "cell_type": "code",
   "execution_count": 80,
   "id": "adc999d6",
   "metadata": {},
   "outputs": [
    {
     "data": {
      "image/png": "[encoded data removed]",
      "text/plain": [
       "<Figure size 288x288 with 1 Axes>"
      ]
     },
     "metadata": {
      "needs_background": "light"
     },
     "output_type": "display_data"
    }
   ],
   "source": [
    "plt.matshow(cm2, cmap=plt.cm.gray)\n",
    "plt.show()"
   ]
  },
  {
   "cell_type": "code",
   "execution_count": 105,
   "id": "c17874b6",
   "metadata": {},
   "outputs": [
    {
     "data": {
      "image/png": "[encoded data removed]",
      "text/plain": [
       "<Figure size 288x288 with 1 Axes>"
      ]
     },
     "metadata": {
      "needs_background": "light"
     },
     "output_type": "display_data"
    }
   ],
   "source": [
    "row_sums = cm2.sum(axis=1, keepdims=True)\n",
    "norm_cm2 = cm2/row_sums\n",
    "np.fill_diagonal(norm_cm2, 0)\n",
    "plt.matshow(norm_cm2, cmap=plt.cm.gray)\n",
    "plt.show()"
   ]
  },
  {
   "cell_type": "markdown",
   "id": "a8f40402",
   "metadata": {},
   "source": [
    "### PART 4"
   ]
  },
  {
   "cell_type": "code",
   "execution_count": 82,
   "id": "0c6e734b",
   "metadata": {},
   "outputs": [],
   "source": [
    "total_datasets = 100\n",
    "instances = 50\n",
    "datasets = np.random.normal(loc=67, scale=3.8, size=(total_datasets, instances))"
   ]
  },
  {
   "cell_type": "code",
   "execution_count": 83,
   "id": "bae987fb",
   "metadata": {},
   "outputs": [],
   "source": [
    "sample_mean = np.mean(datasets, axis=1)\n",
    "sample_std = np.std(datasets, axis=1, ddof=1)"
   ]
  },
  {
   "cell_type": "code",
   "execution_count": 84,
   "id": "0cfffc59",
   "metadata": {},
   "outputs": [],
   "source": [
    "import math\n",
    "uprbound= sample_mean + 1.96*(3.8/math.sqrt(instances))\n",
    "lorbound = sample_mean - 1.96*(3.8/math.sqrt(instances))\n",
    "confint_95 = np.zeros((100, 2))"
   ]
  },
  {
   "cell_type": "code",
   "execution_count": 85,
   "id": "591161b5",
   "metadata": {},
   "outputs": [
    {
     "data": {
      "text/plain": [
       "array([[66.6067048 , 68.71331732],\n",
       "       [66.04069574, 68.14730826],\n",
       "       [65.83886355, 67.94547607],\n",
       "       [66.60738797, 68.71400049],\n",
       "       [66.42280227, 68.52941479]])"
      ]
     },
     "execution_count": 85,
     "metadata": {},
     "output_type": "execute_result"
    }
   ],
   "source": [
    "for i in range(100):\n",
    "    confint_95[i, 0] = lorbound[i]\n",
    "    confint_95[i, 1] = uprbound[i]\n",
    "    \n",
    "confint_95[:5]"
   ]
  },
  {
   "cell_type": "code",
   "execution_count": 100,
   "id": "7ca032d3",
   "metadata": {},
   "outputs": [
    {
     "data": {
      "image/png": "[encoded data removed]",
      "text/plain": [
       "<Figure size 432x288 with 1 Axes>"
      ]
     },
     "metadata": {
      "needs_background": "light"
     },
     "output_type": "display_data"
    },
    {
     "name": "stdout",
     "output_type": "stream",
     "text": [
      "Total number of datasets with true mean outside the confidence interval:  9\n"
     ]
    }
   ],
   "source": [
    "count = 0\n",
    "for i in range(total_datasets):\n",
    "    plt.plot([i, i], confint_95[i], color='blue', linewidth=1)\n",
    "    plt.scatter(i, sample_mean[i], color='brown', zorder=5)\n",
    "    if (confint_95[i, 0] > 67 or confint_95[i, 1] < 67) :\n",
    "        plt.plot([i, i], confint_95[i], color='violet', linewidth=2)\n",
    "        count += 1\n",
    "    else:\n",
    "        plt.plot([i, i], confint_95[i], color='green', linewidth=1)\n",
    "\n",
    "plt.plot([0, 100], [67, 67], color=\"blue\", label=\"true mean\", linewidth=\"3\")\n",
    "plt.legend(loc=\"lower right\")\n",
    "plt.show()\n",
    "\n",
    "print(\"Total number of datasets with true mean outside the confidence interval: \", count)"
   ]
  },
  {
   "cell_type": "code",
   "execution_count": 101,
   "id": "65f5100e",
   "metadata": {},
   "outputs": [
    {
     "name": "stdout",
     "output_type": "stream",
     "text": [
      "0.0499\n",
      "0.0465\n",
      "0.0466\n",
      "0.0486\n",
      "0.0479\n",
      "0.0509\n",
      "0.0426\n",
      "0.0502\n",
      "0.0512\n",
      "0.0516\n",
      "---------------------------\n",
      "0.0508\n",
      "0.048\n",
      "0.0511\n",
      "0.0488\n",
      "0.0494\n",
      "0.0497\n",
      "0.0545\n",
      "0.0502\n",
      "0.0501\n",
      "0.0464\n"
     ]
    }
   ],
   "source": [
    "def percentage(total_datasets, instances):\n",
    "    datasets_new = np.random.normal(loc=67, scale=3.8, size=(total_datasets, instances))\n",
    "    \n",
    "    newsamp_mean = np.mean(datasets_new, axis=1)\n",
    "    newsamp_dev = np.std(datasets_new, axis=1, ddof=1)\n",
    "    \n",
    "    confint_95_new = np.zeros((10000, 2))\n",
    "    count = 0\n",
    "    for i in range(10000):\n",
    "        confint_95_new[i, 0] = newsamp_mean[i] - 1.96*(3.8/math.sqrt(instances))\n",
    "        confint_95_new[i, 1] = newsamp_mean[i] + 1.96*(3.8/math.sqrt(instances))\n",
    "        if (confint_95_new[i, 0] > 67 or confint_95_new[i, 1] < 67) :\n",
    "            count += 1\n",
    "    return count/10000\n",
    "\n",
    "for i in range(10):\n",
    "    print(percentage(10000, 50))\n",
    "    \n",
    "print(\"---------------------------\")\n",
    "    \n",
    "for i in range(10):\n",
    "    print(percentage(100000, 50))"
   ]
  },
  {
   "cell_type": "code",
   "execution_count": 102,
   "id": "0db5f152",
   "metadata": {},
   "outputs": [
    {
     "name": "stdout",
     "output_type": "stream",
     "text": [
      "0.0786\n",
      "0.0817\n",
      "0.0806\n",
      "0.0828\n",
      "0.0826\n",
      "0.0832\n",
      "0.083\n",
      "0.0852\n",
      "0.081\n",
      "0.0838\n"
     ]
    }
   ],
   "source": [
    "def percentage(total_datasets, instances):\n",
    "    datasets_new = np.random.normal(loc=67, scale=3.8, size=(total_datasets, instances))\n",
    "    \n",
    "    newsamp_mean = np.mean(datasets_new, axis=1)\n",
    "    newsamp_dev = np.std(datasets_new, axis=1, ddof=1)\n",
    "    \n",
    "    confint_95_new = np.zeros((10000, 2))\n",
    "    count = 0\n",
    "    for i in range(10000):\n",
    "        confint_95_new[i, 0] = newsamp_mean[i] - 1.96*(newsamp_dev[i]/math.sqrt(instances))\n",
    "        confint_95_new[i, 1] = newsamp_mean[i] + 1.96*(newsamp_dev[i]/math.sqrt(instances))\n",
    "        if (confint_95_new[i, 0] > 67 or confint_95_new[i, 1] < 67) :\n",
    "            count += 1\n",
    "    return count/10000\n",
    "\n",
    "for i in range(10):\n",
    "    print(percentage(100000, 10))"
   ]
  },
  {
   "cell_type": "code",
   "execution_count": 103,
   "id": "427a8cb4",
   "metadata": {},
   "outputs": [
    {
     "name": "stdout",
     "output_type": "stream",
     "text": [
      "0.0499\n",
      "0.0513\n",
      "0.0455\n",
      "0.0499\n",
      "0.0508\n",
      "0.0503\n",
      "0.049\n",
      "0.0528\n",
      "0.0518\n",
      "0.0487\n"
     ]
    }
   ],
   "source": [
    "def percentage(total_datasets, instances):\n",
    "    datasets_new = np.random.normal(loc=67, scale=3.8, size=(total_datasets, instances))\n",
    "    \n",
    "    newsamp_mean = np.mean(datasets_new, axis=1)\n",
    "    newsamp_dev = np.std(datasets_new, axis=1, ddof=1)\n",
    "    \n",
    "    confint_95_new = np.zeros((10000, 2))\n",
    "    count = 0\n",
    "    for i in range(10000):\n",
    "        confint_95_new[i, 0] = newsamp_mean[i] - 2.262*(newsamp_dev[i]/math.sqrt(instances))\n",
    "        confint_95_new[i, 1] = newsamp_mean[i] + 2.262*(newsamp_dev[i]/math.sqrt(instances))\n",
    "        if (confint_95_new[i, 0] > 67 or confint_95_new[i, 1] < 67) :\n",
    "            count += 1\n",
    "    return count/10000\n",
    "\n",
    "for i in range(10):\n",
    "    print(percentage(100000, 10))"
   ]
  }
 ],
 "metadata": {
  "kernelspec": {
   "display_name": "Python 3",
   "language": "python",
   "name": "python3"
  },
  "language_info": {
   "codemirror_mode": {
    "name": "ipython",
    "version": 3
   },
   "file_extension": ".py",
   "mimetype": "text/x-python",
   "name": "python",
   "nbconvert_exporter": "python",
   "pygments_lexer": "ipython3",
   "version": "3.8.8"
  }
 },
 "nbformat": 4,
 "nbformat_minor": 5
}
