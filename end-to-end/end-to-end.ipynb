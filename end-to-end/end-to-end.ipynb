{
 "cells": [
  {
   "cell_type": "code",
   "execution_count": 45,
   "id": "077c6f10",
   "metadata": {},
   "outputs": [],
   "source": [
    "import pandas as pd\n",
    "import numpy as np\n",
    "import matplotlib.pyplot as plot\n",
    "import sklearn\n",
    "from pandas.plotting import scatter_matrix"
   ]
  },
  {
   "cell_type": "markdown",
   "id": "e1574412",
   "metadata": {},
   "source": [
    "### Step 1: Split data into training & testing sets:"
   ]
  },
  {
   "cell_type": "code",
   "execution_count": 46,
   "id": "d0b6c9d8",
   "metadata": {},
   "outputs": [
    {
     "data": {
      "text/html": [
       "<div>\n",
       "<style scoped>\n",
       "    .dataframe tbody tr th:only-of-type {\n",
       "        vertical-align: middle;\n",
       "    }\n",
       "\n",
       "    .dataframe tbody tr th {\n",
       "        vertical-align: top;\n",
       "    }\n",
       "\n",
       "    .dataframe thead th {\n",
       "        text-align: right;\n",
       "    }\n",
       "</style>\n",
       "<table border=\"1\" class=\"dataframe\">\n",
       "  <thead>\n",
       "    <tr style=\"text-align: right;\">\n",
       "      <th></th>\n",
       "      <th>Car_Name</th>\n",
       "      <th>Year</th>\n",
       "      <th>Selling_Price</th>\n",
       "      <th>Present_Price</th>\n",
       "      <th>Kms_Driven</th>\n",
       "      <th>Fuel_Type</th>\n",
       "      <th>Seller_Type</th>\n",
       "      <th>Transmission</th>\n",
       "      <th>Owner</th>\n",
       "    </tr>\n",
       "  </thead>\n",
       "  <tbody>\n",
       "    <tr>\n",
       "      <th>0</th>\n",
       "      <td>ritz</td>\n",
       "      <td>2014</td>\n",
       "      <td>3.35</td>\n",
       "      <td>5.59</td>\n",
       "      <td>27000</td>\n",
       "      <td>Petrol</td>\n",
       "      <td>Dealer</td>\n",
       "      <td>Manual</td>\n",
       "      <td>0</td>\n",
       "    </tr>\n",
       "    <tr>\n",
       "      <th>1</th>\n",
       "      <td>sx4</td>\n",
       "      <td>2013</td>\n",
       "      <td>4.75</td>\n",
       "      <td>9.54</td>\n",
       "      <td>43000</td>\n",
       "      <td>Diesel</td>\n",
       "      <td>Dealer</td>\n",
       "      <td>Manual</td>\n",
       "      <td>0</td>\n",
       "    </tr>\n",
       "    <tr>\n",
       "      <th>2</th>\n",
       "      <td>ciaz</td>\n",
       "      <td>2017</td>\n",
       "      <td>7.25</td>\n",
       "      <td>9.85</td>\n",
       "      <td>6900</td>\n",
       "      <td>Petrol</td>\n",
       "      <td>Dealer</td>\n",
       "      <td>Manual</td>\n",
       "      <td>0</td>\n",
       "    </tr>\n",
       "    <tr>\n",
       "      <th>3</th>\n",
       "      <td>wagon r</td>\n",
       "      <td>2011</td>\n",
       "      <td>2.85</td>\n",
       "      <td>4.15</td>\n",
       "      <td>5200</td>\n",
       "      <td>Petrol</td>\n",
       "      <td>Dealer</td>\n",
       "      <td>Manual</td>\n",
       "      <td>0</td>\n",
       "    </tr>\n",
       "    <tr>\n",
       "      <th>4</th>\n",
       "      <td>swift</td>\n",
       "      <td>2014</td>\n",
       "      <td>4.60</td>\n",
       "      <td>6.87</td>\n",
       "      <td>42450</td>\n",
       "      <td>Diesel</td>\n",
       "      <td>Dealer</td>\n",
       "      <td>Manual</td>\n",
       "      <td>0</td>\n",
       "    </tr>\n",
       "  </tbody>\n",
       "</table>\n",
       "</div>"
      ],
      "text/plain": [
       "  Car_Name  Year  Selling_Price  Present_Price  Kms_Driven Fuel_Type  \\\n",
       "0     ritz  2014           3.35           5.59       27000    Petrol   \n",
       "1      sx4  2013           4.75           9.54       43000    Diesel   \n",
       "2     ciaz  2017           7.25           9.85        6900    Petrol   \n",
       "3  wagon r  2011           2.85           4.15        5200    Petrol   \n",
       "4    swift  2014           4.60           6.87       42450    Diesel   \n",
       "\n",
       "  Seller_Type Transmission  Owner  \n",
       "0      Dealer       Manual      0  \n",
       "1      Dealer       Manual      0  \n",
       "2      Dealer       Manual      0  \n",
       "3      Dealer       Manual      0  \n",
       "4      Dealer       Manual      0  "
      ]
     },
     "execution_count": 46,
     "metadata": {},
     "output_type": "execute_result"
    }
   ],
   "source": [
    "cardf = pd.read_csv('car-data.csv')\n",
    "cardf.head()"
   ]
  },
  {
   "cell_type": "code",
   "execution_count": 47,
   "id": "1a6dc8a0",
   "metadata": {},
   "outputs": [
    {
     "name": "stdout",
     "output_type": "stream",
     "text": [
      "<class 'pandas.core.frame.DataFrame'>\n",
      "RangeIndex: 301 entries, 0 to 300\n",
      "Data columns (total 9 columns):\n",
      " #   Column         Non-Null Count  Dtype  \n",
      "---  ------         --------------  -----  \n",
      " 0   Car_Name       301 non-null    object \n",
      " 1   Year           301 non-null    int64  \n",
      " 2   Selling_Price  301 non-null    float64\n",
      " 3   Present_Price  301 non-null    float64\n",
      " 4   Kms_Driven     301 non-null    int64  \n",
      " 5   Fuel_Type      301 non-null    object \n",
      " 6   Seller_Type    301 non-null    object \n",
      " 7   Transmission   301 non-null    object \n",
      " 8   Owner          301 non-null    int64  \n",
      "dtypes: float64(2), int64(3), object(4)\n",
      "memory usage: 21.3+ KB\n"
     ]
    }
   ],
   "source": [
    "cardf.info()"
   ]
  },
  {
   "cell_type": "code",
   "execution_count": 48,
   "id": "02d507d6",
   "metadata": {},
   "outputs": [
    {
     "data": {
      "text/html": [
       "<div>\n",
       "<style scoped>\n",
       "    .dataframe tbody tr th:only-of-type {\n",
       "        vertical-align: middle;\n",
       "    }\n",
       "\n",
       "    .dataframe tbody tr th {\n",
       "        vertical-align: top;\n",
       "    }\n",
       "\n",
       "    .dataframe thead th {\n",
       "        text-align: right;\n",
       "    }\n",
       "</style>\n",
       "<table border=\"1\" class=\"dataframe\">\n",
       "  <thead>\n",
       "    <tr style=\"text-align: right;\">\n",
       "      <th></th>\n",
       "      <th>Year</th>\n",
       "      <th>Selling_Price</th>\n",
       "      <th>Present_Price</th>\n",
       "      <th>Kms_Driven</th>\n",
       "      <th>Owner</th>\n",
       "    </tr>\n",
       "  </thead>\n",
       "  <tbody>\n",
       "    <tr>\n",
       "      <th>count</th>\n",
       "      <td>301.000000</td>\n",
       "      <td>301.000000</td>\n",
       "      <td>301.000000</td>\n",
       "      <td>301.000000</td>\n",
       "      <td>301.000000</td>\n",
       "    </tr>\n",
       "    <tr>\n",
       "      <th>mean</th>\n",
       "      <td>2013.627907</td>\n",
       "      <td>4.661296</td>\n",
       "      <td>7.628472</td>\n",
       "      <td>36947.205980</td>\n",
       "      <td>0.043189</td>\n",
       "    </tr>\n",
       "    <tr>\n",
       "      <th>std</th>\n",
       "      <td>2.891554</td>\n",
       "      <td>5.082812</td>\n",
       "      <td>8.644115</td>\n",
       "      <td>38886.883882</td>\n",
       "      <td>0.247915</td>\n",
       "    </tr>\n",
       "    <tr>\n",
       "      <th>min</th>\n",
       "      <td>2003.000000</td>\n",
       "      <td>0.100000</td>\n",
       "      <td>0.320000</td>\n",
       "      <td>500.000000</td>\n",
       "      <td>0.000000</td>\n",
       "    </tr>\n",
       "    <tr>\n",
       "      <th>25%</th>\n",
       "      <td>2012.000000</td>\n",
       "      <td>0.900000</td>\n",
       "      <td>1.200000</td>\n",
       "      <td>15000.000000</td>\n",
       "      <td>0.000000</td>\n",
       "    </tr>\n",
       "    <tr>\n",
       "      <th>50%</th>\n",
       "      <td>2014.000000</td>\n",
       "      <td>3.600000</td>\n",
       "      <td>6.400000</td>\n",
       "      <td>32000.000000</td>\n",
       "      <td>0.000000</td>\n",
       "    </tr>\n",
       "    <tr>\n",
       "      <th>75%</th>\n",
       "      <td>2016.000000</td>\n",
       "      <td>6.000000</td>\n",
       "      <td>9.900000</td>\n",
       "      <td>48767.000000</td>\n",
       "      <td>0.000000</td>\n",
       "    </tr>\n",
       "    <tr>\n",
       "      <th>max</th>\n",
       "      <td>2018.000000</td>\n",
       "      <td>35.000000</td>\n",
       "      <td>92.600000</td>\n",
       "      <td>500000.000000</td>\n",
       "      <td>3.000000</td>\n",
       "    </tr>\n",
       "  </tbody>\n",
       "</table>\n",
       "</div>"
      ],
      "text/plain": [
       "              Year  Selling_Price  Present_Price     Kms_Driven       Owner\n",
       "count   301.000000     301.000000     301.000000     301.000000  301.000000\n",
       "mean   2013.627907       4.661296       7.628472   36947.205980    0.043189\n",
       "std       2.891554       5.082812       8.644115   38886.883882    0.247915\n",
       "min    2003.000000       0.100000       0.320000     500.000000    0.000000\n",
       "25%    2012.000000       0.900000       1.200000   15000.000000    0.000000\n",
       "50%    2014.000000       3.600000       6.400000   32000.000000    0.000000\n",
       "75%    2016.000000       6.000000       9.900000   48767.000000    0.000000\n",
       "max    2018.000000      35.000000      92.600000  500000.000000    3.000000"
      ]
     },
     "execution_count": 48,
     "metadata": {},
     "output_type": "execute_result"
    }
   ],
   "source": [
    "cardf.describe()"
   ]
  },
  {
   "cell_type": "code",
   "execution_count": 49,
   "id": "0b2be35e",
   "metadata": {},
   "outputs": [
    {
     "data": {
      "text/plain": [
       "Car_Name           Year  Selling_Price  Present_Price  Kms_Driven  Fuel_Type  Seller_Type  Transmission  Owner\n",
       "fortuner           2015  23.00          30.61          40000       Diesel     Dealer       Automatic     0        2\n",
       "ertiga             2016  7.75           10.79          43000       Diesel     Dealer       Manual        0        2\n",
       "800                2003  0.35           2.28           127000      Petrol     Individual   Manual        0        1\n",
       "ertiga             2015  6.10           7.71           26000       Petrol     Dealer       Manual        0        1\n",
       "etios g            2014  4.75           6.76           40000       Petrol     Dealer       Manual        0        1\n",
       "                                                                                                                 ..\n",
       "Yamaha FZ S V 2.0  2015  0.55           0.84           58000       Petrol     Individual   Manual        0        1\n",
       "                         0.48           0.84           23000       Petrol     Individual   Manual        0        1\n",
       "Yamaha FZ S        2012  0.40           0.83           5500        Petrol     Individual   Manual        0        1\n",
       "Yamaha FZ 16       2015  0.75           0.82           18000       Petrol     Individual   Manual        0        1\n",
       "xcent              2017  5.75           7.13           12479       Petrol     Dealer       Manual        0        1\n",
       "Length: 299, dtype: int64"
      ]
     },
     "execution_count": 49,
     "metadata": {},
     "output_type": "execute_result"
    }
   ],
   "source": [
    "cardf.value_counts()"
   ]
  },
  {
   "cell_type": "code",
   "execution_count": 50,
   "id": "ab102f7a",
   "metadata": {},
   "outputs": [
    {
     "data": {
      "image/png": "[encoded data removed]",
      "text/plain": [
       "<Figure size 1440x1080 with 6 Axes>"
      ]
     },
     "metadata": {
      "needs_background": "light"
     },
     "output_type": "display_data"
    }
   ],
   "source": [
    "cardf.hist(bins=50, figsize=(20,15), color='red')\n",
    "plot.show()"
   ]
  },
  {
   "cell_type": "code",
   "execution_count": 51,
   "id": "1bd92103",
   "metadata": {},
   "outputs": [
    {
     "data": {
      "text/plain": [
       "<AxesSubplot:>"
      ]
     },
     "execution_count": 51,
     "metadata": {},
     "output_type": "execute_result"
    },
    {
     "data": {
      "image/png": "[encoded data removed]",
      "text/plain": [
       "<Figure size 360x216 with 1 Axes>"
      ]
     },
     "metadata": {
      "needs_background": "light"
     },
     "output_type": "display_data"
    }
   ],
   "source": [
    "cardf[\"Year_Cat\"] = pd.cut(cardf[\"Year\"], bins=[0., 2010, 2012, 2014, 2016, np.inf], labels=[1,2,3,4,5])\n",
    "cardf[\"Year_Cat\"].hist(figsize=(5,3), color='red')"
   ]
  },
  {
   "cell_type": "code",
   "execution_count": 52,
   "id": "089b3927",
   "metadata": {},
   "outputs": [],
   "source": [
    "from sklearn.model_selection import StratifiedShuffleSplit"
   ]
  },
  {
   "cell_type": "code",
   "execution_count": 53,
   "id": "26706d37",
   "metadata": {},
   "outputs": [
    {
     "name": "stdout",
     "output_type": "stream",
     "text": [
      "<class 'pandas.core.frame.DataFrame'>\n",
      "RangeIndex: 301 entries, 0 to 300\n",
      "Data columns (total 10 columns):\n",
      " #   Column         Non-Null Count  Dtype   \n",
      "---  ------         --------------  -----   \n",
      " 0   Car_Name       301 non-null    object  \n",
      " 1   Year           301 non-null    int64   \n",
      " 2   Selling_Price  301 non-null    float64 \n",
      " 3   Present_Price  301 non-null    float64 \n",
      " 4   Kms_Driven     301 non-null    int64   \n",
      " 5   Fuel_Type      301 non-null    object  \n",
      " 6   Seller_Type    301 non-null    object  \n",
      " 7   Transmission   301 non-null    object  \n",
      " 8   Owner          301 non-null    int64   \n",
      " 9   Year_Cat       301 non-null    category\n",
      "dtypes: category(1), float64(2), int64(3), object(4)\n",
      "memory usage: 21.8+ KB\n"
     ]
    }
   ],
   "source": [
    "cardf.info()"
   ]
  },
  {
   "cell_type": "code",
   "execution_count": 54,
   "id": "a5545523",
   "metadata": {},
   "outputs": [
    {
     "data": {
      "text/plain": [
       "4    0.377049\n",
       "3    0.229508\n",
       "2    0.147541\n",
       "1    0.131148\n",
       "5    0.114754\n",
       "Name: Year_Cat, dtype: float64"
      ]
     },
     "execution_count": 54,
     "metadata": {},
     "output_type": "execute_result"
    }
   ],
   "source": [
    "sss = StratifiedShuffleSplit(n_splits=1, test_size=0.2, random_state=42)\n",
    "for train_index, test_index in sss.split(cardf, cardf[\"Year_Cat\"]):\n",
    "    strat_train_set = cardf.loc[train_index]\n",
    "    strat_test_set = cardf.loc[test_index]\n",
    "\n",
    "strat_test_set[\"Year_Cat\"].value_counts() / len(strat_test_set)"
   ]
  },
  {
   "cell_type": "markdown",
   "id": "76d33d55",
   "metadata": {},
   "source": [
    "### Step 2: Experiment with training dataset:"
   ]
  },
  {
   "cell_type": "code",
   "execution_count": 55,
   "id": "a4a54522",
   "metadata": {},
   "outputs": [],
   "source": [
    "carcorr_matrix = cardf.corr()"
   ]
  },
  {
   "cell_type": "code",
   "execution_count": 56,
   "id": "937944b2",
   "metadata": {},
   "outputs": [
    {
     "data": {
      "text/plain": [
       "Selling_Price    1.000000\n",
       "Present_Price    0.878983\n",
       "Year             0.236141\n",
       "Kms_Driven       0.029187\n",
       "Owner           -0.088344\n",
       "Name: Selling_Price, dtype: float64"
      ]
     },
     "execution_count": 56,
     "metadata": {},
     "output_type": "execute_result"
    }
   ],
   "source": [
    "carcorr_matrix[\"Selling_Price\"].sort_values(ascending=False)"
   ]
  },
  {
   "cell_type": "code",
   "execution_count": 57,
   "id": "7eedce0d",
   "metadata": {},
   "outputs": [
    {
     "data": {
      "text/plain": [
       "array([[<AxesSubplot:xlabel='Selling_Price', ylabel='Selling_Price'>,\n",
       "        <AxesSubplot:xlabel='Present_Price', ylabel='Selling_Price'>,\n",
       "        <AxesSubplot:xlabel='Year', ylabel='Selling_Price'>,\n",
       "        <AxesSubplot:xlabel='Kms_Driven', ylabel='Selling_Price'>,\n",
       "        <AxesSubplot:xlabel='Owner', ylabel='Selling_Price'>],\n",
       "       [<AxesSubplot:xlabel='Selling_Price', ylabel='Present_Price'>,\n",
       "        <AxesSubplot:xlabel='Present_Price', ylabel='Present_Price'>,\n",
       "        <AxesSubplot:xlabel='Year', ylabel='Present_Price'>,\n",
       "        <AxesSubplot:xlabel='Kms_Driven', ylabel='Present_Price'>,\n",
       "        <AxesSubplot:xlabel='Owner', ylabel='Present_Price'>],\n",
       "       [<AxesSubplot:xlabel='Selling_Price', ylabel='Year'>,\n",
       "        <AxesSubplot:xlabel='Present_Price', ylabel='Year'>,\n",
       "        <AxesSubplot:xlabel='Year', ylabel='Year'>,\n",
       "        <AxesSubplot:xlabel='Kms_Driven', ylabel='Year'>,\n",
       "        <AxesSubplot:xlabel='Owner', ylabel='Year'>],\n",
       "       [<AxesSubplot:xlabel='Selling_Price', ylabel='Kms_Driven'>,\n",
       "        <AxesSubplot:xlabel='Present_Price', ylabel='Kms_Driven'>,\n",
       "        <AxesSubplot:xlabel='Year', ylabel='Kms_Driven'>,\n",
       "        <AxesSubplot:xlabel='Kms_Driven', ylabel='Kms_Driven'>,\n",
       "        <AxesSubplot:xlabel='Owner', ylabel='Kms_Driven'>],\n",
       "       [<AxesSubplot:xlabel='Selling_Price', ylabel='Owner'>,\n",
       "        <AxesSubplot:xlabel='Present_Price', ylabel='Owner'>,\n",
       "        <AxesSubplot:xlabel='Year', ylabel='Owner'>,\n",
       "        <AxesSubplot:xlabel='Kms_Driven', ylabel='Owner'>,\n",
       "        <AxesSubplot:xlabel='Owner', ylabel='Owner'>]], dtype=object)"
      ]
     },
     "execution_count": 57,
     "metadata": {},
     "output_type": "execute_result"
    },
    {
     "data": {
      "image/png": "[encoded data removed]",
      "text/plain": [
       "<Figure size 864x576 with 25 Axes>"
      ]
     },
     "metadata": {
      "needs_background": "light"
     },
     "output_type": "display_data"
    }
   ],
   "source": [
    "attributes = [\"Selling_Price\", \"Present_Price\", \"Year\", \"Kms_Driven\", \"Owner\"]\n",
    "scatter_matrix(cardf[attributes], figsize=(12,8), color='red')"
   ]
  },
  {
   "cell_type": "code",
   "execution_count": 58,
   "id": "8d0d16db",
   "metadata": {},
   "outputs": [
    {
     "data": {
      "text/plain": [
       "Selling_Price    1.000000\n",
       "Present_Price    0.878983\n",
       "kms_per_year     0.261841\n",
       "Year             0.236141\n",
       "Kms_Driven       0.029187\n",
       "Owner           -0.088344\n",
       "Name: Selling_Price, dtype: float64"
      ]
     },
     "execution_count": 58,
     "metadata": {},
     "output_type": "execute_result"
    }
   ],
   "source": [
    "currentYear = max(cardf[\"Year\"]) + 1\n",
    "cardf[\"kms_per_year\"] = cardf[\"Kms_Driven\"] / (currentYear - cardf[\"Year\"])\n",
    "carcorr_matrix = cardf.corr()\n",
    "carcorr_matrix[\"Selling_Price\"].sort_values(ascending=False)"
   ]
  },
  {
   "cell_type": "code",
   "execution_count": 59,
   "id": "7df7a601",
   "metadata": {},
   "outputs": [],
   "source": [
    "car_inputs = strat_train_set.drop(\"Selling_Price\", axis=1)\n",
    "car_labels = strat_train_set[\"Selling_Price\"].copy()"
   ]
  },
  {
   "cell_type": "code",
   "execution_count": 60,
   "id": "e539214b",
   "metadata": {},
   "outputs": [
    {
     "data": {
      "text/plain": [
       "<301x5 sparse matrix of type '<class 'numpy.float64'>'\n",
       "\twith 301 stored elements in Compressed Sparse Row format>"
      ]
     },
     "execution_count": 60,
     "metadata": {},
     "output_type": "execute_result"
    }
   ],
   "source": [
    "from sklearn.preprocessing import OneHotEncoder\n",
    "\n",
    "year_cat = cardf[[\"Year_Cat\"]]\n",
    "car_encoder = OneHotEncoder()\n",
    "car_1hot = car_encoder.fit_transform(year_cat)\n",
    "car_1hot"
   ]
  },
  {
   "cell_type": "code",
   "execution_count": 61,
   "id": "23991dc3",
   "metadata": {},
   "outputs": [
    {
     "data": {
      "text/plain": [
       "array([[0., 0., 1., 0., 0.],\n",
       "       [0., 0., 1., 0., 0.],\n",
       "       [0., 0., 0., 0., 1.],\n",
       "       ...,\n",
       "       [1., 0., 0., 0., 0.],\n",
       "       [0., 0., 0., 0., 1.],\n",
       "       [0., 0., 0., 1., 0.]])"
      ]
     },
     "execution_count": 61,
     "metadata": {},
     "output_type": "execute_result"
    }
   ],
   "source": [
    "car_1hot.toarray()"
   ]
  },
  {
   "cell_type": "markdown",
   "id": "373ed837",
   "metadata": {},
   "source": [
    "### Step 3: Transformation Pipelines"
   ]
  },
  {
   "cell_type": "code",
   "execution_count": 62,
   "id": "1629d9f2",
   "metadata": {},
   "outputs": [],
   "source": [
    "from sklearn.base import BaseEstimator, TransformerMixin"
   ]
  },
  {
   "cell_type": "code",
   "execution_count": 63,
   "id": "3df1fa4d",
   "metadata": {},
   "outputs": [
    {
     "name": "stdout",
     "output_type": "stream",
     "text": [
      "<class 'pandas.core.frame.DataFrame'>\n",
      "Int64Index: 240 entries, 9 to 20\n",
      "Data columns (total 8 columns):\n",
      " #   Column         Non-Null Count  Dtype   \n",
      "---  ------         --------------  -----   \n",
      " 0   Year           240 non-null    int64   \n",
      " 1   Present_Price  240 non-null    float64 \n",
      " 2   Kms_Driven     240 non-null    int64   \n",
      " 3   Fuel_Type      240 non-null    object  \n",
      " 4   Seller_Type    240 non-null    object  \n",
      " 5   Transmission   240 non-null    object  \n",
      " 6   Owner          240 non-null    int64   \n",
      " 7   Year_Cat       240 non-null    category\n",
      "dtypes: category(1), float64(1), int64(3), object(3)\n",
      "memory usage: 15.4+ KB\n"
     ]
    }
   ],
   "source": [
    "cardf = car_data = strat_train_set.copy().drop(\"Selling_Price\", axis=1).drop(\"Car_Name\", axis=1)\n",
    "cardf.info()"
   ]
  },
  {
   "cell_type": "code",
   "execution_count": 64,
   "id": "0794c298",
   "metadata": {},
   "outputs": [],
   "source": [
    "class CombinedAttributesAddr(BaseEstimator, TransformerMixin):\n",
    "    def __init__ (self, add_Kms_Per_Year = True):\n",
    "        self.add_Kms_Per_Year = add_Kms_Per_Year\n",
    "    def fit(self, X, y=None):\n",
    "        return self\n",
    "    def transform(self, X):\n",
    "        if self.add_Kms_Per_Year:\n",
    "            current_year=max(X[:,car_data.columns.get_loc(\"Year\")]) + 1\n",
    "            Kms_Per_Year = X[:,car_data.columns.get_loc(\"Kms_Driven\")]/(current_year - X[:, car_data.columns.get_loc(\"Year\")])\n",
    "            return np.c_[X, Kms_Per_Year]\n",
    "        else:\n",
    "            return X"
   ]
  },
  {
   "cell_type": "code",
   "execution_count": 65,
   "id": "0417237e",
   "metadata": {},
   "outputs": [
    {
     "data": {
      "text/plain": [
       "array([[2015, 8.92, 42367, ..., 0, 4, 14122.333333333334],\n",
       "       [2013, 0.57, 18000, ..., 0, 3, 3600.0],\n",
       "       [2012, 9.4, 60000, ..., 0, 2, 10000.0],\n",
       "       ...,\n",
       "       [2016, 20.91, 12000, ..., 0, 4, 6000.0],\n",
       "       [2012, 6.79, 35000, ..., 0, 2, 5833.333333333333],\n",
       "       [2016, 3.95, 25000, ..., 0, 4, 12500.0]], dtype=object)"
      ]
     },
     "execution_count": 65,
     "metadata": {},
     "output_type": "execute_result"
    }
   ],
   "source": [
    "attr_addr = CombinedAttributesAddr(add_Kms_Per_Year=True)\n",
    "car_data_extra_attribs = attr_addr.transform(cardf.values)\n",
    "car_data_extra_attribs"
   ]
  },
  {
   "cell_type": "code",
   "execution_count": 66,
   "id": "b330945e",
   "metadata": {},
   "outputs": [
    {
     "name": "stdout",
     "output_type": "stream",
     "text": [
      "<class 'pandas.core.frame.DataFrame'>\n",
      "Int64Index: 240 entries, 9 to 20\n",
      "Data columns (total 4 columns):\n",
      " #   Column         Non-Null Count  Dtype  \n",
      "---  ------         --------------  -----  \n",
      " 0   Year           240 non-null    int64  \n",
      " 1   Present_Price  240 non-null    float64\n",
      " 2   Kms_Driven     240 non-null    int64  \n",
      " 3   Owner          240 non-null    int64  \n",
      "dtypes: float64(1), int64(3)\n",
      "memory usage: 9.4 KB\n"
     ]
    }
   ],
   "source": [
    "from sklearn.pipeline import Pipeline\n",
    "from sklearn.preprocessing import StandardScaler\n",
    "from sklearn.impute import SimpleImputer\n",
    "\n",
    "num_pipeline = Pipeline([\n",
    "    ('imputer', SimpleImputer(strategy=\"median\")),\n",
    "    ('attribs_adder', CombinedAttributesAddr()),\n",
    "    ('std_scaler', StandardScaler()),\n",
    "])\n",
    "\n",
    "cardf_num = car_data.select_dtypes(include=[\"int64\", \"float64\"])\n",
    "cardf_num.info()\n",
    "cardf_num_tr = num_pipeline.fit_transform(cardf_num)\n",
    "\n"
   ]
  },
  {
   "cell_type": "code",
   "execution_count": 67,
   "id": "d0d92dc9",
   "metadata": {},
   "outputs": [],
   "source": [
    "from sklearn.compose import ColumnTransformer\n",
    "\n",
    "num_attribs = list(cardf_num)\n",
    "cat_attribs = [\"Fuel_Type\", \"Seller_Type\", \"Transmission\"]\n",
    "full_pipeline = ColumnTransformer([\n",
    "    (\"num\", num_pipeline, num_attribs),\n",
    "    (\"cat\", OneHotEncoder(), cat_attribs),\n",
    "])\n",
    "\n"
   ]
  },
  {
   "cell_type": "code",
   "execution_count": 68,
   "id": "c10723c5",
   "metadata": {},
   "outputs": [],
   "source": [
    "cars_prepared = full_pipeline.fit_transform(cardf)"
   ]
  },
  {
   "cell_type": "code",
   "execution_count": 69,
   "id": "ed4c8779",
   "metadata": {},
   "outputs": [
    {
     "data": {
      "text/plain": [
       "array([[ 0.47087125,  0.15133489,  0.129479  , ...,  0.        ,\n",
       "         0.        ,  1.        ],\n",
       "       [-0.22031591, -0.77378641, -0.4596781 , ...,  1.        ,\n",
       "         0.        ,  1.        ],\n",
       "       [-0.56590949,  0.20451551,  0.5558182 , ...,  0.        ,\n",
       "         0.        ,  1.        ],\n",
       "       ...,\n",
       "       [ 0.81646484,  1.4797426 , -0.60474901, ...,  0.        ,\n",
       "         0.        ,  1.        ],\n",
       "       [-0.56590949, -0.08465414, -0.04864388, ...,  0.        ,\n",
       "         0.        ,  1.        ],\n",
       "       [ 0.81646484, -0.39930617, -0.29042872, ...,  0.        ,\n",
       "         0.        ,  1.        ]])"
      ]
     },
     "execution_count": 69,
     "metadata": {},
     "output_type": "execute_result"
    }
   ],
   "source": [
    "cars_prepared"
   ]
  },
  {
   "cell_type": "markdown",
   "id": "e7c34986",
   "metadata": {},
   "source": [
    "### Step 4: Regression"
   ]
  },
  {
   "cell_type": "code",
   "execution_count": 70,
   "id": "9caf493c",
   "metadata": {},
   "outputs": [
    {
     "name": "stdout",
     "output_type": "stream",
     "text": [
      "Predictions:  [8.16355805 0.16441356 6.29950337 0.84261973 5.56578467]\n"
     ]
    }
   ],
   "source": [
    "from sklearn.linear_model import LinearRegression\n",
    "\n",
    "lin_reg = LinearRegression()\n",
    "lin_reg.fit(cars_prepared, car_labels)\n",
    "\n",
    "some_data = car_data.iloc[:5]\n",
    "some_labels = car_labels.iloc[:5]\n",
    "some_data_prepared = full_pipeline.transform(some_data)\n",
    "some_data_prepared\n",
    "print(\"Predictions: \", lin_reg.predict(some_data_prepared))"
   ]
  },
  {
   "cell_type": "code",
   "execution_count": 71,
   "id": "399f1164",
   "metadata": {},
   "outputs": [
    {
     "name": "stdout",
     "output_type": "stream",
     "text": [
      "Labels:  [7.45, 0.25, 4.95, 0.6, 4.0]\n"
     ]
    }
   ],
   "source": [
    "print(\"Labels: \", list(some_labels))"
   ]
  },
  {
   "cell_type": "code",
   "execution_count": 72,
   "id": "ce1468d3",
   "metadata": {},
   "outputs": [
    {
     "data": {
      "text/plain": [
       "1.7483034665226949"
      ]
     },
     "execution_count": 72,
     "metadata": {},
     "output_type": "execute_result"
    }
   ],
   "source": [
    "from sklearn.metrics import mean_squared_error\n",
    "\n",
    "cars_predictions = lin_reg.predict(cars_prepared)\n",
    "lin_mse = mean_squared_error(car_labels, cars_predictions)\n",
    "lin_rmse = np.sqrt(lin_mse)\n",
    "lin_rmse"
   ]
  },
  {
   "cell_type": "code",
   "execution_count": 73,
   "id": "3882d175",
   "metadata": {},
   "outputs": [
    {
     "data": {
      "text/plain": [
       "1.7483034665226949"
      ]
     },
     "execution_count": 73,
     "metadata": {},
     "output_type": "execute_result"
    }
   ],
   "source": [
    "from sklearn.tree import DecisionTreeRegressor\n",
    "tree_reg = DecisionTreeRegressor()\n",
    "tree_reg.fit(cars_prepared, car_labels)\n",
    "\n",
    "car_predictions = tree_reg.predict(cars_prepared)\n",
    "\n",
    "tree_mse = mean_squared_error(car_labels, cars_predictions)\n",
    "tree_rmse = np.sqrt(tree_mse)\n",
    "tree_rmse"
   ]
  },
  {
   "cell_type": "markdown",
   "id": "eeea9274",
   "metadata": {},
   "source": [
    "#### Cross validation: "
   ]
  },
  {
   "cell_type": "code",
   "execution_count": 74,
   "id": "d841e0b2",
   "metadata": {},
   "outputs": [
    {
     "name": "stdout",
     "output_type": "stream",
     "text": [
      "Scores:  [1.1935783  1.26016699 1.27214222 1.36989963 1.81095394 4.31073466\n",
      " 1.06525232 1.27112647 1.22189402 2.91860126]\n",
      "Mean:  1.769434981565956\n",
      "Standard deviation:  0.9910797206468066\n"
     ]
    }
   ],
   "source": [
    "from sklearn.model_selection import cross_val_score\n",
    "scores = cross_val_score(tree_reg, cars_prepared, car_labels, \n",
    "                        scoring=\"neg_mean_squared_error\", cv=10)\n",
    "tree_rmse_scores = np.sqrt(-scores)\n",
    "\n",
    "def display_scores(scores):\n",
    "    print(\"Scores: \", scores)\n",
    "    print(\"Mean: \", scores.mean())\n",
    "    print(\"Standard deviation: \", scores.std())\n",
    "\n",
    "display_scores(tree_rmse_scores)"
   ]
  },
  {
   "cell_type": "code",
   "execution_count": 75,
   "id": "ae7dab33",
   "metadata": {},
   "outputs": [
    {
     "name": "stdout",
     "output_type": "stream",
     "text": [
      "Scores:  [1.03522474 2.05435772 1.22806382 1.92426896 2.27869416 3.2932284\n",
      " 1.11676399 1.43468998 2.87999394 3.2399194 ]\n",
      "Mean:  2.0485205109022857\n",
      "Standard deviation:  0.8169091247699675\n"
     ]
    }
   ],
   "source": [
    "# for linear regression\n",
    "\n",
    "lin_scores = cross_val_score(lin_reg, cars_prepared, car_labels,\n",
    "                            scoring=\"neg_mean_squared_error\", cv=10)\n",
    "lin_rmse_scores = np.sqrt(-lin_scores)\n",
    "display_scores(lin_rmse_scores)"
   ]
  },
  {
   "cell_type": "code",
   "execution_count": 76,
   "id": "e2abd4b0",
   "metadata": {},
   "outputs": [
    {
     "name": "stdout",
     "output_type": "stream",
     "text": [
      "Scores:  [0.45909547 1.13723703 0.68374012 2.27998293 1.60309929 3.51913065\n",
      " 0.52875596 0.67213313 0.88051773 2.46626366]\n",
      "Mean:  1.4229955956561071\n",
      "Standard deviation:  0.9728338138491699\n"
     ]
    }
   ],
   "source": [
    "from sklearn.ensemble import RandomForestRegressor\n",
    "\n",
    "forest_reg = RandomForestRegressor()\n",
    "forest_scores = cross_val_score(forest_reg, cars_prepared, car_labels, \n",
    "                               scoring=\"neg_mean_squared_error\", cv=10)\n",
    "forest_rmse_scores = np.sqrt(-forest_scores)\n",
    "display_scores(forest_rmse_scores)\n"
   ]
  },
  {
   "cell_type": "code",
   "execution_count": 77,
   "id": "86149163",
   "metadata": {},
   "outputs": [
    {
     "data": {
      "text/plain": [
       "0.7010222514894469"
      ]
     },
     "execution_count": 77,
     "metadata": {},
     "output_type": "execute_result"
    }
   ],
   "source": [
    "####\n",
    "forest_reg.fit(cars_prepared, car_labels)\n",
    "car_predictions = forest_reg.predict(cars_prepared)\n",
    "forest_mse = mean_squared_error(car_labels, car_predictions)\n",
    "forest_rmse = np.sqrt(forest_mse)\n",
    "forest_rmse"
   ]
  },
  {
   "cell_type": "code",
   "execution_count": 78,
   "id": "d99103ad",
   "metadata": {},
   "outputs": [
    {
     "data": {
      "text/plain": [
       "{'max_features': 8, 'n_estimators': 10}"
      ]
     },
     "execution_count": 78,
     "metadata": {},
     "output_type": "execute_result"
    }
   ],
   "source": [
    "from sklearn.model_selection import GridSearchCV\n",
    "param_grid = [{\n",
    "    'n_estimators': [2, 10, 30], 'max_features': [2, 4, 6, 8]},\n",
    "    {'bootstrap': [False], 'n_estimators': [3, 10], 'max_features': [2, 3, 4]},\n",
    "]\n",
    "\n",
    "forest_reg = RandomForestRegressor()\n",
    "grid_search = GridSearchCV(forest_reg, param_grid, cv=5,\n",
    "                          scoring='neg_mean_squared_error',\n",
    "                          return_train_score=True)\n",
    "grid_search.fit(cars_prepared, car_labels)\n",
    "\n",
    "grid_search.best_params_"
   ]
  },
  {
   "cell_type": "code",
   "execution_count": 79,
   "id": "2dc3ee02",
   "metadata": {},
   "outputs": [
    {
     "data": {
      "text/plain": [
       "RandomForestRegressor(max_features=8, n_estimators=10)"
      ]
     },
     "execution_count": 79,
     "metadata": {},
     "output_type": "execute_result"
    }
   ],
   "source": [
    "grid_search.best_estimator_"
   ]
  },
  {
   "cell_type": "code",
   "execution_count": 80,
   "id": "c236f8b4",
   "metadata": {},
   "outputs": [
    {
     "name": "stdout",
     "output_type": "stream",
     "text": [
      "3.4680003243944486 {'max_features': 2, 'n_estimators': 2}\n",
      "2.6119207850736976 {'max_features': 2, 'n_estimators': 10}\n",
      "2.507647688959604 {'max_features': 2, 'n_estimators': 30}\n",
      "2.788922544340974 {'max_features': 4, 'n_estimators': 2}\n",
      "2.4539492634323143 {'max_features': 4, 'n_estimators': 10}\n",
      "2.3048572298517755 {'max_features': 4, 'n_estimators': 30}\n",
      "2.827088479484385 {'max_features': 6, 'n_estimators': 2}\n",
      "2.110286130875779 {'max_features': 6, 'n_estimators': 10}\n",
      "2.1513722374723225 {'max_features': 6, 'n_estimators': 30}\n",
      "2.334142196111168 {'max_features': 8, 'n_estimators': 2}\n",
      "1.9160853223434493 {'max_features': 8, 'n_estimators': 10}\n",
      "2.109137799420523 {'max_features': 8, 'n_estimators': 30}\n",
      "3.185759524822927 {'bootstrap': False, 'max_features': 2, 'n_estimators': 3}\n",
      "2.4202532822000262 {'bootstrap': False, 'max_features': 2, 'n_estimators': 10}\n",
      "3.039138050927038 {'bootstrap': False, 'max_features': 3, 'n_estimators': 3}\n",
      "2.5701011239832567 {'bootstrap': False, 'max_features': 3, 'n_estimators': 10}\n",
      "2.238492693094404 {'bootstrap': False, 'max_features': 4, 'n_estimators': 3}\n",
      "2.2182348416026647 {'bootstrap': False, 'max_features': 4, 'n_estimators': 10}\n"
     ]
    }
   ],
   "source": [
    "cvres = grid_search.cv_results_\n",
    "for mean_score, params in zip(cvres[\"mean_test_score\"], cvres[\"params\"]):\n",
    "    print(np.sqrt(-mean_score), params)"
   ]
  },
  {
   "cell_type": "code",
   "execution_count": 81,
   "id": "b82a643f",
   "metadata": {},
   "outputs": [
    {
     "data": {
      "text/plain": [
       "array([5.42840020e-02, 5.68366884e-01, 3.59766818e-02, 1.51678358e-05,\n",
       "       1.31192895e-02, 6.33331126e-07, 1.05635890e-01, 1.67779078e-02,\n",
       "       6.32043579e-02, 8.12104223e-02, 3.70131914e-02, 2.43955722e-02])"
      ]
     },
     "execution_count": 81,
     "metadata": {},
     "output_type": "execute_result"
    }
   ],
   "source": [
    "feature_importances = grid_search.best_estimator_.feature_importances_\n",
    "feature_importances"
   ]
  },
  {
   "cell_type": "code",
   "execution_count": 82,
   "id": "334bf683",
   "metadata": {},
   "outputs": [
    {
     "data": {
      "text/plain": [
       "[(0.5683668838030446, 'Present_Price'),\n",
       " (0.10563589012853321, 'Diesel'),\n",
       " (0.0542840020011903, 'Year'),\n",
       " (0.035976681840647194, 'Kms_Driven'),\n",
       " (0.01677790779532289, 'Petrol'),\n",
       " (0.01311928954844752, 'Kms_Per_Year'),\n",
       " (1.5167835791712675e-05, 'Owner'),\n",
       " (6.33331125794298e-07, 'CNG')]"
      ]
     },
     "execution_count": 82,
     "metadata": {},
     "output_type": "execute_result"
    }
   ],
   "source": [
    "extra_attribs = [\"Kms_Per_Year\"]\n",
    "cat_encoder = full_pipeline.named_transformers_[\"cat\"]\n",
    "cat_one_hot_attribs = list(cat_encoder.categories_[0])\n",
    "attributes = num_attribs + extra_attribs + cat_one_hot_attribs\n",
    "sorted(zip(feature_importances, attributes), reverse=True)"
   ]
  },
  {
   "cell_type": "code",
   "execution_count": 83,
   "id": "ed61b378",
   "metadata": {},
   "outputs": [
    {
     "data": {
      "text/plain": [
       "0.6762076172793876"
      ]
     },
     "execution_count": 83,
     "metadata": {},
     "output_type": "execute_result"
    }
   ],
   "source": [
    "car_predictions = grid_search.best_estimator_.predict(cars_prepared)\n",
    "gs_mse = mean_squared_error(car_labels, car_predictions)\n",
    "gs_rmse = np.sqrt(gs_mse)\n",
    "gs_rmse"
   ]
  },
  {
   "cell_type": "markdown",
   "id": "17db484a",
   "metadata": {},
   "source": [
    "### Step 5: Prediction using the test set"
   ]
  },
  {
   "cell_type": "code",
   "execution_count": 84,
   "id": "72e4d63c",
   "metadata": {},
   "outputs": [
    {
     "data": {
      "text/plain": [
       "1.1267852210719793"
      ]
     },
     "execution_count": 84,
     "metadata": {},
     "output_type": "execute_result"
    }
   ],
   "source": [
    "final_model = grid_search.best_estimator_\n",
    "X_test = strat_test_set.drop(\"Selling_Price\", axis=1).drop(\"Car_Name\", axis=1)\n",
    "y_test = strat_test_set[\"Selling_Price\"].copy()\n",
    "\n",
    "X_test_prepared = full_pipeline.transform(X_test)\n",
    "\n",
    "final_predictions = final_model.predict(X_test_prepared)\n",
    "final_mse = mean_squared_error(y_test, final_predictions)\n",
    "final_rmse = np.sqrt(final_mse)\n",
    "\n",
    "final_rmse"
   ]
  },
  {
   "cell_type": "code",
   "execution_count": 85,
   "id": "39e360a3",
   "metadata": {},
   "outputs": [],
   "source": [
    "# confidencelevel "
   ]
  },
  {
   "cell_type": "code",
   "execution_count": 86,
   "id": "5d8736d9",
   "metadata": {},
   "outputs": [
    {
     "data": {
      "text/plain": [
       "array([0.66410347, 1.44853597])"
      ]
     },
     "execution_count": 86,
     "metadata": {},
     "output_type": "execute_result"
    }
   ],
   "source": [
    "from scipy import stats\n",
    "confidence = 0.95\n",
    "\n",
    "squared_errors = (final_predictions - y_test)**2\n",
    "np.sqrt(stats.t.interval(confidence, len(squared_errors) - 1, \n",
    "                        loc=squared_errors.mean(),\n",
    "                        scale=stats.sem(squared_errors)))"
   ]
  },
  {
   "cell_type": "code",
   "execution_count": 87,
   "id": "069024a2",
   "metadata": {},
   "outputs": [
    {
     "name": "stdout",
     "output_type": "stream",
     "text": [
      "0.9357443168942708\n"
     ]
    }
   ],
   "source": [
    "result = final_model.score(X_test_prepared, y_test)\n",
    "print(result)\n",
    "\n"
   ]
  },
  {
   "cell_type": "code",
   "execution_count": 88,
   "id": "aac74d77",
   "metadata": {},
   "outputs": [
    {
     "data": {
      "text/plain": [
       "['car_price_predictor.sav']"
      ]
     },
     "execution_count": 88,
     "metadata": {},
     "output_type": "execute_result"
    }
   ],
   "source": [
    "#saving the model\n",
    "\n",
    "import joblib\n",
    "\n",
    "filename = 'car_price_predictor.sav'\n",
    "joblib.dump(final_model, filename)"
   ]
  },
  {
   "cell_type": "code",
   "execution_count": null,
   "id": "82ccebce",
   "metadata": {},
   "outputs": [],
   "source": []
  }
 ],
 "metadata": {
  "kernelspec": {
   "display_name": "Python 3",
   "language": "python",
   "name": "python3"
  },
  "language_info": {
   "codemirror_mode": {
    "name": "ipython",
    "version": 3
   },
   "file_extension": ".py",
   "mimetype": "text/x-python",
   "name": "python",
   "nbconvert_exporter": "python",
   "pygments_lexer": "ipython3",
   "version": "3.8.8"
  }
 },
 "nbformat": 4,
 "nbformat_minor": 5
}
